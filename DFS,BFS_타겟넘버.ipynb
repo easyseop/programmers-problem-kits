{
  "nbformat": 4,
  "nbformat_minor": 0,
  "metadata": {
    "colab": {
      "name": "DFS,BFS:타겟넘버.ipynb",
      "provenance": [],
      "authorship_tag": "ABX9TyMf0Hv9fzJ/pozcxF4XGulC",
      "include_colab_link": true
    },
    "kernelspec": {
      "name": "python3",
      "display_name": "Python 3"
    },
    "language_info": {
      "name": "python"
    }
  },
  "cells": [
    {
      "cell_type": "markdown",
      "metadata": {
        "id": "view-in-github",
        "colab_type": "text"
      },
      "source": [
        "<a href=\"https://colab.research.google.com/github/easyseop/programmers-problem-kits/blob/main/DFS%2CBFS_%ED%83%80%EA%B2%9F%EB%84%98%EB%B2%84.ipynb\" target=\"_parent\"><img src=\"https://colab.research.google.com/assets/colab-badge.svg\" alt=\"Open In Colab\"/></a>"
      ]
    },
    {
      "cell_type": "code",
      "metadata": {
        "id": "74U-RQ9_DmjX"
      },
      "source": [
        "number = [1,1,1,1,1]\n",
        "target=3"
      ],
      "execution_count": null,
      "outputs": []
    },
    {
      "cell_type": "code",
      "metadata": {
        "id": "gdc8mo5fEJm1"
      },
      "source": [
        "\\"
      ],
      "execution_count": null,
      "outputs": []
    },
    {
      "cell_type": "code",
      "metadata": {
        "id": "EJZjsmDpGBzj"
      },
      "source": [
        "for i in number:\n",
        "  n = d.popleft()\n",
        "  lis=[]\n",
        "  for j in n:\n",
        "    lis.append(j+i)\n",
        "    lis.append(j-i)\n",
        "  d.append(lis)\n",
        "ans = d.popleft().count(target)"
      ],
      "execution_count": null,
      "outputs": []
    },
    {
      "cell_type": "code",
      "metadata": {
        "colab": {
          "base_uri": "https://localhost:8080/",
          "height": 164
        },
        "id": "-SHpcixdGyHl",
        "outputId": "e55197c0-4792-4c27-f9b2-d558d0d7583f"
      },
      "source": [
        "d.popleft()"
      ],
      "execution_count": null,
      "outputs": [
        {
          "output_type": "error",
          "ename": "IndexError",
          "evalue": "ignored",
          "traceback": [
            "\u001b[0;31m---------------------------------------------------------------------------\u001b[0m",
            "\u001b[0;31mIndexError\u001b[0m                                Traceback (most recent call last)",
            "\u001b[0;32m<ipython-input-18-7bd74eaffb65>\u001b[0m in \u001b[0;36m<module>\u001b[0;34m()\u001b[0m\n\u001b[0;32m----> 1\u001b[0;31m \u001b[0md\u001b[0m\u001b[0;34m.\u001b[0m\u001b[0mpopleft\u001b[0m\u001b[0;34m(\u001b[0m\u001b[0;34m)\u001b[0m\u001b[0;34m\u001b[0m\u001b[0;34m\u001b[0m\u001b[0m\n\u001b[0m",
            "\u001b[0;31mIndexError\u001b[0m: pop from an empty deque"
          ]
        }
      ]
    },
    {
      "cell_type": "code",
      "metadata": {
        "id": "xznggF3dGyol"
      },
      "source": [
        "def solution(numbers, target):\n",
        "    answer = 0\n",
        "    from collections import deque\n",
        "    d= deque()\n",
        "    d.append([0])\n",
        "    for i in number:\n",
        "        n = d.popleft()\n",
        "        lis=[]\n",
        "        for j in n:\n",
        "            lis.append(j+i)\n",
        "            lis.append(j-i)\n",
        "        d.append(lis)\n",
        "    answer = d.popleft().count(target)\n",
        "    return answer"
      ],
      "execution_count": null,
      "outputs": []
    },
    {
      "cell_type": "code",
      "metadata": {
        "colab": {
          "base_uri": "https://localhost:8080/"
        },
        "id": "oc9TA9PwJecv",
        "outputId": "bc5d44aa-965d-4d17-8a76-8563d7a94c52"
      },
      "source": [
        "solution([1,1,1,1,1],3)"
      ],
      "execution_count": null,
      "outputs": [
        {
          "output_type": "execute_result",
          "data": {
            "text/plain": [
              "5"
            ]
          },
          "metadata": {},
          "execution_count": 26
        }
      ]
    },
    {
      "cell_type": "code",
      "metadata": {
        "id": "wcsPCc_OJhGt"
      },
      "source": [
        "answer = 0\n",
        "from collections import deque\n",
        "d= deque()\n",
        "d.append([0])\n",
        "for i in number:\n",
        "    n = d.popleft()\n",
        "    lis=[]\n",
        "    for j in n:\n",
        "        lis.append(j+i)\n",
        "        lis.append(j-i)\n",
        "    d.append(lis)"
      ],
      "execution_count": null,
      "outputs": []
    },
    {
      "cell_type": "code",
      "metadata": {
        "colab": {
          "base_uri": "https://localhost:8080/"
        },
        "id": "NvDjyXlzJlJV",
        "outputId": "d41e9f71-34fb-40c9-84fe-14fe08e8f155"
      },
      "source": [
        "d"
      ],
      "execution_count": null,
      "outputs": [
        {
          "output_type": "execute_result",
          "data": {
            "text/plain": [
              "deque([[5,\n",
              "        3,\n",
              "        3,\n",
              "        1,\n",
              "        3,\n",
              "        1,\n",
              "        1,\n",
              "        -1,\n",
              "        3,\n",
              "        1,\n",
              "        1,\n",
              "        -1,\n",
              "        1,\n",
              "        -1,\n",
              "        -1,\n",
              "        -3,\n",
              "        3,\n",
              "        1,\n",
              "        1,\n",
              "        -1,\n",
              "        1,\n",
              "        -1,\n",
              "        -1,\n",
              "        -3,\n",
              "        1,\n",
              "        -1,\n",
              "        -1,\n",
              "        -3,\n",
              "        -1,\n",
              "        -3,\n",
              "        -3,\n",
              "        -5]])"
            ]
          },
          "metadata": {},
          "execution_count": 22
        }
      ]
    },
    {
      "cell_type": "code",
      "metadata": {
        "id": "u4WF-KoSJlVU"
      },
      "source": [
        ""
      ],
      "execution_count": null,
      "outputs": []
    }
  ]
}